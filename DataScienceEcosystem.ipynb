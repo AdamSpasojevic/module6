{
 "cells": [
  {
   "cell_type": "markdown",
   "id": "1587e387-91f0-4b32-a0f0-6326b85206a7",
   "metadata": {},
   "source": [
    "# Data Science Tools and Ecosystem"
   ]
  },
  {
   "cell_type": "markdown",
   "id": "cae44f9d-27aa-414f-9363-3bdb8ed9009c",
   "metadata": {},
   "source": [
    "In this notebook, Data Science Tools and Ecosystem are summarized."
   ]
  },
  {
   "cell_type": "markdown",
   "id": "34c1b03b-ac40-4132-a0b7-42618945fb78",
   "metadata": {},
   "source": [
    "**Objectives:**\n",
    "- List popular languages for Data Science\n",
    "- List popular tools user in Data Science\n",
    "- Create a table\n",
    "- Few example of evaluating arithmetic expressions in Python"
   ]
  },
  {
   "cell_type": "markdown",
   "id": "d116ebf7-a087-49c5-95cc-5730876241d8",
   "metadata": {},
   "source": [
    "Some of the popular languages that Data Scientists use are:"
   ]
  },
  {
   "cell_type": "markdown",
   "id": "075126d6-a26e-4b07-ad38-f29a0422ef9a",
   "metadata": {},
   "source": [
    "1.  Python\n",
    "2.  R\n",
    "3.  SQL"
   ]
  },
  {
   "cell_type": "markdown",
   "id": "a1c61332-bce5-403c-b83f-ed35869a36b9",
   "metadata": {},
   "source": [
    "Some of the commonly used libraries used by Data Scientists include:"
   ]
  },
  {
   "cell_type": "markdown",
   "id": "66b60137-3801-41ad-bea5-0a2d02004ed8",
   "metadata": {},
   "source": [
    "1. Numpy\n",
    "2. Pandas\n",
    "3. Matplotlib\n",
    "4. Tensorflow"
   ]
  },
  {
   "cell_type": "markdown",
   "id": "66cd529c-094e-493b-ab85-b19b50720da5",
   "metadata": {},
   "source": [
    "| Data Science Tools |\n",
    "| -------------|\n",
    "| MySQL | \n",
    "| PixieDust |\n",
    "| TensorFlow |\n",
    "| MongoDB |"
   ]
  },
  {
   "cell_type": "markdown",
   "id": "6500e2a9-042f-41ec-b130-7482e1c6d261",
   "metadata": {},
   "source": [
    "### Below are a few examples of evaluating arithmetic expressions in Python"
   ]
  },
  {
   "cell_type": "code",
   "execution_count": 5,
   "id": "3fd664a7-3813-4f4e-91b4-552affff1168",
   "metadata": {},
   "outputs": [
    {
     "data": {
      "text/plain": [
       "3"
      ]
     },
     "execution_count": 5,
     "metadata": {},
     "output_type": "execute_result"
    }
   ],
   "source": [
    "1+2"
   ]
  },
  {
   "cell_type": "code",
   "execution_count": 6,
   "id": "0f0fbac9-cffa-431c-a0c1-ea2fc57f88dc",
   "metadata": {},
   "outputs": [
    {
     "data": {
      "text/plain": [
       "17"
      ]
     },
     "execution_count": 6,
     "metadata": {},
     "output_type": "execute_result"
    }
   ],
   "source": [
    "# This a simple arithmetic expression to mutiply then add integers\n",
    "(3*4)+5"
   ]
  },
  {
   "cell_type": "code",
   "execution_count": 9,
   "id": "71d61024-11bf-4335-becd-0eacb1ec56b1",
   "metadata": {},
   "outputs": [
    {
     "name": "stdout",
     "output_type": "stream",
     "text": [
      "3.3333333333333335 hours\n"
     ]
    }
   ],
   "source": [
    "#  This will convert 200 minutes to hours by diving by 60\n",
    "hours = 200/60\n",
    "print(f\"{hours} hours\")"
   ]
  },
  {
   "cell_type": "markdown",
   "id": "ad232509-02a9-4616-8ee5-284851a151e8",
   "metadata": {},
   "source": [
    "## Author\n",
    "Adam Spasojevic"
   ]
  },
  {
   "cell_type": "code",
   "execution_count": null,
   "id": "9b6d0ed2-8c55-4385-b20e-8770a636fff8",
   "metadata": {},
   "outputs": [],
   "source": []
  }
 ],
 "metadata": {
  "kernelspec": {
   "display_name": "Python 3 (ipykernel)",
   "language": "python",
   "name": "python3"
  },
  "language_info": {
   "codemirror_mode": {
    "name": "ipython",
    "version": 3
   },
   "file_extension": ".py",
   "mimetype": "text/x-python",
   "name": "python",
   "nbconvert_exporter": "python",
   "pygments_lexer": "ipython3",
   "version": "3.11.9"
  }
 },
 "nbformat": 4,
 "nbformat_minor": 5
}
